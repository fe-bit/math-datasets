{
 "cells": [
  {
   "cell_type": "code",
   "execution_count": 3,
   "id": "7b3c51a2",
   "metadata": {},
   "outputs": [
    {
     "name": "stdout",
     "output_type": "stream",
     "text": [
      "✅ Converted XML to JSONL: ASDiv.jsonl\n"
     ]
    }
   ],
   "source": [
    "import xml.etree.ElementTree as ET\n",
    "import json\n",
    "\n",
    "# Load your XML file\n",
    "xml_input = \"ASDiv.xml\"\n",
    "jsonl_output = \"ASDiv.jsonl\"\n",
    "\n",
    "# Parse the XML\n",
    "tree = ET.parse(xml_input)\n",
    "root = tree.getroot()\n",
    "\n",
    "# Navigate to ProblemSet inside Machine-Reading-Corpus-File\n",
    "problem_set = root.find(\"ProblemSet\")\n",
    "\n",
    "with open(jsonl_output, \"w\", encoding=\"utf-8\") as f_out:\n",
    "    for problem in problem_set.findall(\"Problem\"):\n",
    "        data = {\n",
    "            \"id\": problem.get(\"ID\"),\n",
    "            \"grade\": int(problem.get(\"Grade\")),\n",
    "            \"source\": problem.get(\"Source\"),\n",
    "            \"body\": problem.findtext(\"Body\"),\n",
    "            \"question\": problem.findtext(\"Question\"),\n",
    "            \"solution_type\": problem.findtext(\"Solution-Type\"),\n",
    "            \"answer\": problem.findtext(\"Answer\"),\n",
    "            \"formula\": problem.findtext(\"Formula\"),\n",
    "        }\n",
    "        f_out.write(json.dumps(data, ensure_ascii=False) + \"\\n\")\n",
    "\n",
    "print(f\"✅ Converted XML to JSONL: {jsonl_output}\")\n",
    "\n"
   ]
  },
  {
   "cell_type": "code",
   "execution_count": null,
   "id": "409fdc75",
   "metadata": {},
   "outputs": [],
   "source": []
  }
 ],
 "metadata": {
  "kernelspec": {
   "display_name": "MA311",
   "language": "python",
   "name": "python3"
  },
  "language_info": {
   "codemirror_mode": {
    "name": "ipython",
    "version": 3
   },
   "file_extension": ".py",
   "mimetype": "text/x-python",
   "name": "python",
   "nbconvert_exporter": "python",
   "pygments_lexer": "ipython3",
   "version": "3.11.11"
  }
 },
 "nbformat": 4,
 "nbformat_minor": 5
}
